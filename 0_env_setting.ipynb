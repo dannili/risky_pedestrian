{
 "cells": [
  {
   "cell_type": "markdown",
   "metadata": {},
   "source": [
    "### Setting up environment\n",
    "##### 1. Create a new conda environment"
   ]
  },
  {
   "cell_type": "markdown",
   "metadata": {},
   "source": [
    "I have created a new conda environment for this project, to not mess up my base conda environment. Below are the steps of creating a new environment and install packages which are needed:"
   ]
  },
  {
   "cell_type": "code",
   "execution_count": null,
   "metadata": {},
   "outputs": [],
   "source": [
    "# Check current envs\n",
    "conda info --envs\n",
    "\n",
    "# Create a new env called `risky-walker`\n",
    "conda create -n risky-walker-capstone python==3.7 numpy pandas\n",
    "\n",
    "# Activate the new env\n",
    "conda activate risky-walker-capstone\n",
    "\n",
    "# Install some basic packages to start\n",
    "conda install matplotlib seaborn statsmodels plotly jupyter beautifulsoup4\n",
    "conda install -c conda-forge imbalanced-learn\n",
    "\n",
    "# Check the installed packages\n",
    "conda list\n",
    "\n",
    "# Access to the new env from any environment\n",
    "ipython kernel install --name \"risky-walker-capstone\" --user\n",
    "\n",
    "# Deactive the env\n",
    "conda deactivate"
   ]
  },
  {
   "cell_type": "markdown",
   "metadata": {},
   "source": [
    "Once this project is completed, the env list will be saved into a txt file"
   ]
  },
  {
   "cell_type": "code",
   "execution_count": null,
   "metadata": {},
   "outputs": [],
   "source": [
    "# Create the env list txt file\n",
    "conda list --explicit > risky-walker-env.txt\n",
    "\n",
    "# User/Reader can download the txt file and create the same env \n",
    "conda create -n mynewenv --file risky-walker-env.txt"
   ]
  },
  {
   "cell_type": "markdown",
   "metadata": {},
   "source": [
    "To delete the env, just run the following command:"
   ]
  },
  {
   "cell_type": "code",
   "execution_count": null,
   "metadata": {},
   "outputs": [],
   "source": [
    "conda remove --name mynewenv --all"
   ]
  }
 ],
 "metadata": {
  "kernelspec": {
   "display_name": "red-light-camera-capstone",
   "language": "python",
   "name": "red-light-camera-capstone"
  },
  "language_info": {
   "codemirror_mode": {
    "name": "ipython",
    "version": 3
   },
   "file_extension": ".py",
   "mimetype": "text/x-python",
   "name": "python",
   "nbconvert_exporter": "python",
   "pygments_lexer": "ipython3",
   "version": "3.7.0"
  }
 },
 "nbformat": 4,
 "nbformat_minor": 4
}
